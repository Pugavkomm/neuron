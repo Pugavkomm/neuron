{
 "cells": [
  {
   "cell_type": "code",
   "execution_count": 20,
   "metadata": {},
   "outputs": [
    {
     "name": "stdout",
     "output_type": "stream",
     "text": [
      "-0.0  \n  0.0 \n  -0.0\n0.16458333333333333\n"
     ]
    }
   ],
   "source": [
    "alpha = .2\n",
    "d = .45\n",
    "b = 4.95\n",
    "a = 1\n",
    "r = .9 \n",
    "\n",
    "a1 = alpha - 2*d \n",
    "a2 = a3 = d\n",
    "b1 = d\n",
    "b2 = alpha - d*(r+1) \n",
    "b3 = r*d\n",
    "c1 = b1 \n",
    "c2 = b3 \n",
    "c3 = b2 \n",
    "t1 = t2  = t3 = alpha*(b-a)\n",
    "\n",
    "\n",
    "t1 = t2  = t3=0\n",
    "x1 = (-a1*c2*t3 +b1*c3*t2 + b2*c1*t3 -b2*c3*t1 -b3*c1*t2 + b3*c2*t1)/(-a1*b2*c3+ a1*b3*c2 + a2*b1*c3 - a2*b3*c1 - a3*b1*c2 + a3*b2*c1)\n",
    "x2 = -(a1*c2*t3 -a1*c3*t2 -a2*c1*t3 +a2*c3*t1 + a3*c1*t2 -a3*c2*t1)/(-a1*b2*c3+a1*b3*c2+a2*b1*c3-a2*b3*c1-a3*b1*c2 + a3*b2*c1)\n",
    "x3 = (-a1*b2*t3+a1*b*t2+a2*b1*t3-a2*b3*t1-a3*b1*t2+a3*b2*t1)/(-a1*b2*c3+a1*b3*c2+a2*b1*c3-a2*b3*c1-a3*b1*c2+a3*b2*c1)\n",
    "print(x1, ' \\n ', x2, '\\n ', x3)\n",
    "m = alpha**4*(b-a)/(alpha**2-alpha**4)\n",
    "print(m)"
   ]
  },
  {
   "cell_type": "code",
   "execution_count": 32,
   "metadata": {},
   "outputs": [
    {
     "name": "stdout",
     "output_type": "stream",
     "text": [
      "s1:  0.2 \n s2:  -0.8\n"
     ]
    },
    {
     "data": {
      "image/png": "[encoded data removed]",
      "text/plain": [
       "<matplotlib.figure.Figure at 0x7fc0168435c0>"
      ]
     },
     "metadata": {},
     "output_type": "display_data"
    }
   ],
   "source": [
    "import random\n",
    "import numpy as np\n",
    "import matplotlib.pyplot as plt\n",
    "import pylab\n",
    "alpha = .2\n",
    "a = 1\n",
    "d = .5 \n",
    "b = 4.95\n",
    "def F(x):\n",
    "    if x > a:\n",
    "        return alpha*x + alpha*(b-a)\n",
    "    else: \n",
    "        return  alpha*x\n",
    "def f1(x1, x2):\n",
    "    return F(x1) + d*(x2 - x1)\n",
    "def f2(x1, x2):    \n",
    "    return F(x2) + d*(x1-x2)\n",
    "n = 900\n",
    "\n",
    "x1 = np.zeros(n+1)\n",
    "x2 = np.zeros(n+1)\n",
    "x1[0] = 200\n",
    "x2[0] = 300\n",
    "for i in range(0, n):\n",
    "    x1[i+1] = f1(x1[i], x2[i])\n",
    "    x2[i+1] = f2(x1[i], x2[i])\n",
    "step = np.arange(0, n+1, 1)\n",
    "print('s1: ', alpha, '\\n s2: ', alpha - 2*d)\n",
    "\n",
    "\n",
    "plt.plot(step,x1, color = 'black')\n",
    "plt.plot(step, x1, '.')\n",
    "plt.show()\n",
    "\n",
    "\n",
    "plt.plot(step,x2, color = 'black')\n",
    "plt.plot(step, x2, '.')\n",
    "plt.show()"
   ]
  },
  {
   "cell_type": "code",
   "execution_count": 46,
   "metadata": {},
   "outputs": [
    {
     "data": {
      "image/png": "[encoded data removed]",
      "text/plain": [
       "<matplotlib.figure.Figure at 0x7fc0167eb518>"
      ]
     },
     "metadata": {},
     "output_type": "display_data"
    }
   ],
   "source": [
    "alpha = .2\n",
    "b = 4.95\n",
    "a = 1\n",
    "def f(x):\n",
    "    if x > a:\n",
    "        return alpha*x + alpha*(b-a)\n",
    "    else:\n",
    "        return alpha*x\n",
    "n = 100\n",
    "x1 = np.zeros(n+1)\n",
    "step = np.zeros(n+1)\n",
    "x1[0] = 100\n",
    "for i in range(n):\n",
    "    x1[i+1] = f(x1[i])\n",
    "    step[i+1] = x[i]\n",
    "x = np.arange(0, n+1, 1)\n",
    "\n",
    "plt.plot(x,x, linestyle = '--')\n",
    "plt.plot(x1, step, '.' )\n",
    "\n",
    "plt.show()"
   ]
  },
  {
   "cell_type": "code",
   "execution_count": null,
   "metadata": {},
   "outputs": [],
   "source": [
    ""
   ]
  }
 ],
 "metadata": {
  "kernelspec": {
   "display_name": "Python 2",
   "language": "python",
   "name": "python2"
  },
  "language_info": {
   "codemirror_mode": {
    "name": "ipython",
    "version": 2.0
   },
   "file_extension": ".py",
   "mimetype": "text/x-python",
   "name": "python",
   "nbconvert_exporter": "python",
   "pygments_lexer": "ipython2",
   "version": "2.7.6"
  }
 },
 "nbformat": 4,
 "nbformat_minor": 0
}